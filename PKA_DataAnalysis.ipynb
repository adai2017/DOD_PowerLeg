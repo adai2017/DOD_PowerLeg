{
 "cells": [
  {
   "cell_type": "code",
   "execution_count": 1,
   "metadata": {
    "collapsed": true
   },
   "outputs": [],
   "source": [
    "import os\n",
    "import numpy as np\n",
    "import pandas as pd\n",
    "import seaborn as sns\n",
    "import matplotlib.pyplot as plt\n",
    "import datetime as dt\n",
    "import pathlib\n",
    "\n",
    "%matplotlib inline"
   ]
  },
  {
   "cell_type": "code",
   "execution_count": null,
   "metadata": {
    "collapsed": true
   },
   "outputs": [],
   "source": [
    "#---------------------------------------------------------------------------------------------------------\n",
    "# Set path to folder containing raw subject data\n",
    "path = r'C:\\Users\\andre\\Documents\\DOD Data'\n",
    "#---------------------------------------------------------------------------------------------------------\n",
    "\n",
    "newDataFlag = 0\n",
    "# newData is a flag for whether previously exported .csv data needs to be corrected and, if so, re-exports and overwrites\n",
    "# old .csv data. Default is 0, which will only write new .csv files which previously did not exist\n",
    "\n",
    "complete = list(['MVC', 'Pavement', 'Crosswalk Test'])\n",
    "\n",
    "def extract_data(SubID, path):\n",
    "#---------------------------------------------------------------------------------------------------------\n",
    "# For a given subject, extracts and separates accelerometer, gyroscope, and EMG/ECG data into trials and sensor per activity\n",
    "#\n",
    "# Inputs: SubID - string of numbers corresponding to the subject ID\n",
    "#         path - system path to corresponding subject's raw data files\n",
    "#\n",
    "# Outputs: act_dict - dictionary of all activities separated by trial, sensor location, and accelerometer + gyroscope\n",
    "#                     or accelerometer + EMG/ECG data. Every key within this dictionary is a dictionary\n",
    "#---------------------------------------------------------------------------------------------------------\n",
    "    timestamps = pd.read_csv(os.path.join(path, 'annotations.csv')).set_index('EventType')\n",
    "    del timestamps['Timestamp (ms)']\n",
    "    del timestamps['AnnotationId']\n",
    "    del timestamps['AuthorId']\n",
    "    \n",
    "    # Creates list of sensor locations from folders within subject's raw data directory\n",
    "    locations = [locs for locs in os.listdir(path) if os.path.isdir(os.path.join(path, locs))]\n",
    "    \n",
    "    # Creates dictionary of empty dataframes to merge all accelerometer, gyroscope, and EMG/ECG data for each sensor\n",
    "    accel = {locs: pd.DataFrame() for locs in locations}\n",
    "    gyro = {locs: pd.DataFrame() for locs in locations}\n",
    "    emg = {locs: pd.DataFrame() for locs in locations}\n",
    "    \n",
    "    # Finds and merges all accelerometer, gyroscope, and EMG/ECG data for each sensor, retains datetime information\n",
    "    for root, dirs, files in os.walk(path, topdown=True):\n",
    "        for filenames in files:\n",
    "            if filenames.endswith('accel.csv'):\n",
    "                p = pathlib.Path(os.path.join(root, filenames))\n",
    "                location = str(p.relative_to(path)).split(\"\\\\\")[0]\n",
    "                temp_df = pd.read_csv(p).set_index('Timestamp (ms)')\n",
    "                accel[location] = accel[location].append(temp_df)\n",
    "\n",
    "            elif filenames.endswith('gyro.csv'):\n",
    "                p = pathlib.Path(os.path.join(root, filenames))\n",
    "                location = str(p.relative_to(path)).split(\"\\\\\")[0]\n",
    "                temp_df = pd.read_csv(p).set_index('Timestamp (ms)')\n",
    "                gyro[location] = gyro[location].append(temp_df)\n",
    "\n",
    "            if filenames.endswith(('elec.csv', 'emg.csv')):\n",
    "                p = pathlib.Path(os.path.join(root, filenames))\n",
    "                location = str(p.relative_to(path)).split(\"\\\\\")[0]\n",
    "                temp_df = pd.read_csv(p).set_index('Timestamp (ms)')\n",
    "                emg[location] = emg[location].append(temp_df)\n",
    "                \n",
    "    # Complete dictionary of all activities\n",
    "    act_dict = {acts: pd.DataFrame() for acts in complete}\n",
    "\n",
    "    # Populate dictionary keys per activity with every iteration / trial\n",
    "    for activities in complete:\n",
    "        \n",
    "        startTimestamp = timestamps.loc[activities, 'Start Timestamp (ms)'].values\n",
    "        endTimestamp = timestamps.loc[activities, 'Stop Timestamp (ms)'].values\n",
    "\n",
    "        # Create trial dictionary with each key containing all sensor data related with each activity's trial\n",
    "        trial_dict = {trials: pd.DataFrame() for trials in range(0, len(startTimestamp))}\n",
    "\n",
    "        # Populate trial directory keys\n",
    "        for trials in range(0, len(startTimestamp)):\n",
    "\n",
    "            startTime = startTimestamp[trials]\n",
    "            endTime = endTimestamp[trials]\n",
    "\n",
    "            # Create sensor location dictionary with each key corresponding to sensor locations\n",
    "            sensor_dict = {locs: pd.DataFrame() for locs in locations}\n",
    "\n",
    "            # Extract sensor data and populate sensor_dict with sensor data\n",
    "            for location in locations:\n",
    "\n",
    "                data = {'accel': pd.DataFrame(), 'gyro': pd.DataFrame(), 'emg': pd.DataFrame()}\n",
    "\n",
    "                if not accel[location].empty:\n",
    "                    accelData = accel[location]\n",
    "                    data['accel'] = accelData[(accelData.index >= startTime) & (accelData.index <= endTime)]\n",
    "\n",
    "                if not gyro[location].empty:\n",
    "                    gyroData = gyro[location]\n",
    "                    data['gyro'] = gyroData[(gyroData.index >= startTime) & (gyroData.index <= endTime)]\n",
    "\n",
    "                if not emg[location].empty:\n",
    "                    emgData = emg[location]\n",
    "                    data['emg'] = emgData[(emgData.index >= startTime) & (emgData.index <= endTime)]\n",
    "\n",
    "                sensor_dict[location] = data\n",
    "\n",
    "            trial_dict[trials] = sensor_dict\n",
    "\n",
    "        act_dict[activities] = trial_dict\n",
    "    \n",
    "    export_data(act_dict, path, SubID, newDataFlag)\n",
    "    \n",
    "    return act_dict\n",
    "\n",
    "def plot_data(acts, activity, trial, sensor, data, start=0, end=500):\n",
    "#---------------------------------------------------------------------------------------------------------\n",
    "# Plots requested data\n",
    "# \n",
    "# Inputs: acts - activity dataframe containing all sensor data from one subject\n",
    "#         activity - desired activity to plot\n",
    "#         trial - desired trial number to plot\n",
    "#         sensor - desired sensor (serial number or name of location) to analyze\n",
    "#         data - desired type of data to analyze (accel, gyro, EMG/ECG)\n",
    "#         start - starting index, default starts at first point\n",
    "#         end - ending index, default is 500th data point\n",
    "#---------------------------------------------------------------------------------------------------------\n",
    "    toPlot = pd.DataFrame(acts[activity][trial]).loc[data, sensor][start:end].plot()\n",
    "    \n",
    "\n",
    "def export_data(act_data, path, SubID, newDataFlag):\n",
    "#---------------------------------------------------------------------------------------------------------\n",
    "# Exports accel emg data correlating with timestamped activities into .csv files into respective folders\n",
    "#\n",
    "# Inputs: act_data - dictionary of all activities per subject\n",
    "#         path - directory path pointing to location of subject folder, generally handled by a higher-level for loop\n",
    "#         SubID - subject ID to analyze, handled by extract_data function\n",
    "#         newDataFlag - flag for whether to re-export existing data\n",
    "#\n",
    "# Outputs: .csv files of all data separated by activity, sensor location, and start and end timestamps\n",
    "#---------------------------------------------------------------------------------------------------------\n",
    "    for activities in act_data:\n",
    "        \n",
    "        for trials in act_data[activities]:\n",
    "\n",
    "            for sensors in act_data[activities][trials]:\n",
    "\n",
    "                for data in act_data[activities][trials][sensors]:\n",
    "                    \n",
    "                    df = act_data[activities][trials][sensors][data]\n",
    "\n",
    "                    if not df.empty:\n",
    "                        filename = data + '_' + str(trials) + '.csv'\n",
    "                        folder = os.path.join('TimeSplitData', SubID, activities, sensors)\n",
    "                        \n",
    "                        if not os.path.isdir(folder):\n",
    "                            os.makedirs(folder)\n",
    "                            \n",
    "                        if newDataFlag:\n",
    "                            df.to_csv(os.path.join(folder, filename))\n",
    "                        else:\n",
    "                            if not os.path.exists(os.path.join(folder, filename)):\n",
    "                                df.to_csv(os.path.join(folder, filename))"
   ]
  },
  {
   "cell_type": "code",
   "execution_count": null,
   "metadata": {},
   "outputs": [],
   "source": [
    "Subjects = {IDs.lower(): pd.DataFrame() for IDs in os.listdir(path) if os.path.isdir(os.path.join(path, IDs)) and 'pka' in IDs}\n",
    "\n",
    "for ID in Subjects:\n",
    "    act_dict = extract_data(ID, os.path.join(path, ID))\n",
    "    \n",
    "    Subjects[ID] = act_dict"
   ]
  },
  {
   "cell_type": "code",
   "execution_count": null,
   "metadata": {},
   "outputs": [],
   "source": [
    "acts = Subjects['pka03']\n",
    "plot_data(acts, 'Pavement', 0, 'd14spk18', 'accel')"
   ]
  },
  {
   "cell_type": "code",
   "execution_count": null,
   "metadata": {},
   "outputs": [],
   "source": [
    "plot_data(acts, 'Pavement', 1, 'd5la7wyb', 'accel')"
   ]
  },
  {
   "cell_type": "code",
   "execution_count": null,
   "metadata": {},
   "outputs": [],
   "source": [
    "plot_data(acts, 'Pavement', 0, 'd5la7wz0', 'emg')"
   ]
  },
  {
   "cell_type": "code",
   "execution_count": null,
   "metadata": {},
   "outputs": [],
   "source": [
    "plot_data(acts, 'Pavement', 1, 'd5la7wz0', 'emg')"
   ]
  },
  {
   "cell_type": "code",
   "execution_count": null,
   "metadata": {},
   "outputs": [],
   "source": [
    "Subjects"
   ]
  },
  {
   "cell_type": "code",
   "execution_count": null,
   "metadata": {},
   "outputs": [],
   "source": []
  },
  {
   "cell_type": "code",
   "execution_count": null,
   "metadata": {
    "collapsed": true
   },
   "outputs": [],
   "source": []
  },
  {
   "cell_type": "code",
   "execution_count": null,
   "metadata": {
    "collapsed": true
   },
   "outputs": [],
   "source": []
  }
 ],
 "metadata": {
  "kernelspec": {
   "display_name": "Python 3",
   "language": "python",
   "name": "python3"
  },
  "language_info": {
   "codemirror_mode": {
    "name": "ipython",
    "version": 3
   },
   "file_extension": ".py",
   "mimetype": "text/x-python",
   "name": "python",
   "nbconvert_exporter": "python",
   "pygments_lexer": "ipython3",
   "version": "3.6.2"
  }
 },
 "nbformat": 4,
 "nbformat_minor": 2
}
